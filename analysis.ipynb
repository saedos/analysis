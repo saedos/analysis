{
 "cells": [
  {
   "cell_type": "code",
   "execution_count": 1,
   "id": "3737fe30-d1c5-4945-b070-ab691a596797",
   "metadata": {},
   "outputs": [
    {
     "name": "stdout",
     "output_type": "stream",
     "text": [
      "hello\n"
     ]
    }
   ],
   "source": [
    "print(\"hello\")"
   ]
  },
  {
   "cell_type": "code",
   "execution_count": 2,
   "id": "25ea9af1-0ba9-4023-b7ea-f23c7451eed1",
   "metadata": {},
   "outputs": [
    {
     "name": "stdout",
     "output_type": "stream",
     "text": [
      "new stuff\n"
     ]
    }
   ],
   "source": [
    "print (\"new stuff\")"
   ]
  },
  {
   "cell_type": "code",
   "execution_count": 3,
   "id": "b445df58-917c-4982-86f9-9573f4991d45",
   "metadata": {},
   "outputs": [
    {
     "name": "stdout",
     "output_type": "stream",
     "text": [
      "new line\n"
     ]
    }
   ],
   "source": [
    "print(\"new line\")"
   ]
  },
  {
   "cell_type": "code",
   "execution_count": null,
   "id": "178213c0-897a-4c93-b495-fd80d85e1967",
   "metadata": {},
   "outputs": [],
   "source": []
  },
  {
   "cell_type": "code",
   "execution_count": null,
   "id": "e8fae867-3373-4a61-ada9-46d8b01a48bd",
   "metadata": {},
   "outputs": [],
   "source": []
  }
 ],
 "metadata": {
  "kernelspec": {
   "display_name": "Python 3 (ipykernel)",
   "language": "python",
   "name": "python3"
  },
  "language_info": {
   "codemirror_mode": {
    "name": "ipython",
    "version": 3
   },
   "file_extension": ".py",
   "mimetype": "text/x-python",
   "name": "python",
   "nbconvert_exporter": "python",
   "pygments_lexer": "ipython3",
   "version": "3.11.3"
  }
 },
 "nbformat": 4,
 "nbformat_minor": 5
}
